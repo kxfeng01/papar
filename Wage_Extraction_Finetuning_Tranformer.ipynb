{
 "cells": [
  {
   "cell_type": "markdown",
   "id": "9e2baa07",
   "metadata": {},
   "source": [
    "# Extracting wages from unstructured job postings using transformer\n",
    "Author: Kexin Feng\n",
    "\n",
    "This project aims to extract wage information from unstructured job postings. The job posting data is from [LinkUp](https://www.linkup.com/), a platform that aggregates job listings directly from company websites.\n",
    "\n",
    "I use a three-step approach for wage extraction: \n",
    "\n",
    "1. Isolating Text Segments Containing Wage Data\n",
    "2. **Fine-Tuning a Question-Answering Transformer Model**\n",
    "3. Extracting and Categorizing Wage Figures Using Regular Expressions\n",
    "\n",
    "This Jupyter notebook shows the second step process - finetuning a transformer using labeled data. The findings and analyses using the extracted wage data are available in the working paper [\"Pay Transparency and Gender Differences in Job Search\"](https://dx.doi.org/10.2139/ssrn.4984519)."
   ]
  },
  {
   "cell_type": "markdown",
   "id": "c54299f3",
   "metadata": {},
   "source": [
    "## Step 1: Prepare the training set\n",
    "Job postings from LinkUp are typically lengthy, and over 90\\% of them do not contain any wage information. Processing these extensive texts without any filtration would be highly time- and resource-consuming. To streamline the finetuning process, I extracted text segments from job descriptions that contain a dollar sign followed by digits (e.g., $\\$$12, $\\$$9, $\\$$52,000). This targeted extraction focuses on sentences likely to include wage information.\n",
    "\n",
    "This method may miss instances where wage information is presented without a dollar sign, such as \"salary range: 120000 - 160000.\" However, such cases are relatively rare and represent only a small fraction of the dataset.\n"
   ]
  },
  {
   "cell_type": "code",
   "execution_count": 1,
   "id": "de2fafeb",
   "metadata": {
    "scrolled": false
   },
   "outputs": [
    {
     "name": "stderr",
     "output_type": "stream",
     "text": [
      "/mnt/home/fengkexi/anaconda3/lib/python3.10/site-packages/scipy/__init__.py:155: UserWarning: A NumPy version >=1.18.5 and <1.25.0 is required for this version of SciPy (detected version 1.25.0\n",
      "  warnings.warn(f\"A NumPy version >={np_minversion} and <{np_maxversion}\"\n"
     ]
    }
   ],
   "source": [
    "import pandas as pd\n",
    "from transformers import pipeline\n",
    "import re\n",
    "import os\n",
    "import numpy as np\n",
    "import glob\n",
    "import torch\n",
    "\n",
    "pd.options.display.float_format = '{:.3f}'.format # adjust the display format\n",
    "path = \"/mnt/home/fengkexi/wage_compression/cleaned_data\"\n",
    "os.chdir(path)"
   ]
  },
  {
   "cell_type": "markdown",
   "id": "2afdf8b4",
   "metadata": {},
   "source": [
    "First we load the training set and keep only the relevant columns."
   ]
  },
  {
   "cell_type": "code",
   "execution_count": 20,
   "id": "43a23317",
   "metadata": {},
   "outputs": [],
   "source": [
    "# load training set\n",
    "df = pd.read_csv('linkup_10000sample.csv').reset_index(drop=True)\n",
    "df = df[['sent', 'answer']]\n",
    "# df.rename(columns={\"hash\": \"id\"}, inplace=True)"
   ]
  },
  {
   "cell_type": "code",
   "execution_count": 21,
   "id": "6a094f78",
   "metadata": {},
   "outputs": [
    {
     "name": "stdout",
     "output_type": "stream",
     "text": [
      "                                                   sent             answer\n",
      "0     Headquartered in Reston, Virginia, Leidos repo...                NaN\n",
      "1     Headquartered in Reston, Virginia, Leidos repo...                NaN\n",
      "2     Headquartered in Reston, Virginia, Leidos repo...                NaN\n",
      "3     Headquartered in Reston, Virginia, Leidos repo...                NaN\n",
      "4     Headquartered in Reston, Virginia, Leidos repo...                NaN\n",
      "...                                                 ...                ...\n",
      "9995  Position Description Title/PD#: Financial Mana...  $79,488  $122,875\n",
      "9996  Work Schedule: Monday through Friday, 7:00am t...   $48,987  $99,104\n",
      "9997  Work Schedule: Monday - Friday, 8:00 AM - 4:30...   $61,218  $79,586\n",
      "9998  With more than 2,500 employees, Charleston VA ...   $41,365  $53,773\n",
      "9999  Work Schedule: Monday - Friday, 8:00 a.m. - 4:...  $94,046  $125,077\n",
      "\n",
      "[10000 rows x 2 columns]\n"
     ]
    }
   ],
   "source": [
    "print(df)"
   ]
  },
  {
   "cell_type": "markdown",
   "id": "70d4600c",
   "metadata": {},
   "source": [
    "Next we rename the column 'sent' to 'context' to clarify that this column contains the text context needed for the transformer model."
   ]
  },
  {
   "cell_type": "code",
   "execution_count": 22,
   "id": "38ed8ef5",
   "metadata": {},
   "outputs": [],
   "source": [
    "df.rename(columns={\"sent\": \"context\"}, inplace=True)"
   ]
  },
  {
   "cell_type": "markdown",
   "id": "8f4959fb",
   "metadata": {},
   "source": [
    "Preprocess the text data: Convert all text data to lowercase to standardize the dataset and ensure they are of string type."
   ]
  },
  {
   "cell_type": "code",
   "execution_count": 23,
   "id": "5cefc661",
   "metadata": {},
   "outputs": [],
   "source": [
    "df['answer'] = df['answer'].str.lower()\n",
    "df['context'] = df['context'].str.lower()\n",
    "\n",
    "df['context'] = df['context'].astype(str)\n",
    "df['answer'] = df['answer'].astype(str)"
   ]
  },
  {
   "cell_type": "markdown",
   "id": "b2b9d639",
   "metadata": {},
   "source": [
    "We now compute the starting position of each answer within its respective context, which is crucial for question answering models that need the exact location of answers in the text.\n"
   ]
  },
  {
   "cell_type": "code",
   "execution_count": 24,
   "id": "9dcd4a0f",
   "metadata": {
    "scrolled": true
   },
   "outputs": [],
   "source": [
    "for index, row in df.iterrows():\n",
    "    Answer = row['answer']\n",
    "    Context = row['context']\n",
    "    Start_pos = Context.find(Answer)\n",
    "    df.at[index, 'start_pos'] = Start_pos\n",
    "    \n",
    "df['start_pos'] = df['start_pos'].astype(int)"
   ]
  },
  {
   "cell_type": "code",
   "execution_count": 25,
   "id": "4c33ae40",
   "metadata": {},
   "outputs": [
    {
     "name": "stdout",
     "output_type": "stream",
     "text": [
      "                                                context             answer  \\\n",
      "0     headquartered in reston, virginia, leidos repo...                nan   \n",
      "1     headquartered in reston, virginia, leidos repo...                nan   \n",
      "2     headquartered in reston, virginia, leidos repo...                nan   \n",
      "3     headquartered in reston, virginia, leidos repo...                nan   \n",
      "4     headquartered in reston, virginia, leidos repo...                nan   \n",
      "...                                                 ...                ...   \n",
      "9995  position description title/pd#: financial mana...  $79,488  $122,875   \n",
      "9996  work schedule: monday through friday, 7:00am t...   $48,987  $99,104   \n",
      "9997  work schedule: monday - friday, 8:00 am - 4:30...   $61,218  $79,586   \n",
      "9998  with more than 2,500 employees, charleston va ...   $41,365  $53,773   \n",
      "9999  work schedule: monday - friday, 8:00 a.m. - 4:...  $94,046  $125,077   \n",
      "\n",
      "      start_pos  \n",
      "0            -1  \n",
      "1            -1  \n",
      "2            -1  \n",
      "3            -1  \n",
      "4            -1  \n",
      "...         ...  \n",
      "9995        171  \n",
      "9996         56  \n",
      "9997         94  \n",
      "9998        379  \n",
      "9999        126  \n",
      "\n",
      "[10000 rows x 3 columns]\n"
     ]
    }
   ],
   "source": [
    "print(df)"
   ]
  },
  {
   "cell_type": "markdown",
   "id": "89d1b7d9",
   "metadata": {},
   "source": [
    "remove any rows where the answer cannot be found in the context unless the answer is 'nan', which indicates a missing or irrelevant answer-these texts do not contain any wage information.\n"
   ]
  },
  {
   "cell_type": "code",
   "execution_count": 28,
   "id": "bde60b3e",
   "metadata": {},
   "outputs": [],
   "source": [
    "condition = (df['start_pos'] == -1) & (df['answer'] != \"nan\")\n",
    "df = df[~(condition)] "
   ]
  },
  {
   "cell_type": "code",
   "execution_count": 29,
   "id": "ddeaafc1",
   "metadata": {},
   "outputs": [
    {
     "name": "stdout",
     "output_type": "stream",
     "text": [
      "                                                context             answer  \\\n",
      "0     headquartered in reston, virginia, leidos repo...                nan   \n",
      "1     headquartered in reston, virginia, leidos repo...                nan   \n",
      "2     headquartered in reston, virginia, leidos repo...                nan   \n",
      "3     headquartered in reston, virginia, leidos repo...                nan   \n",
      "4     headquartered in reston, virginia, leidos repo...                nan   \n",
      "...                                                 ...                ...   \n",
      "9995  position description title/pd#: financial mana...  $79,488  $122,875   \n",
      "9996  work schedule: monday through friday, 7:00am t...   $48,987  $99,104   \n",
      "9997  work schedule: monday - friday, 8:00 am - 4:30...   $61,218  $79,586   \n",
      "9998  with more than 2,500 employees, charleston va ...   $41,365  $53,773   \n",
      "9999  work schedule: monday - friday, 8:00 a.m. - 4:...  $94,046  $125,077   \n",
      "\n",
      "      start_pos  \n",
      "0            -1  \n",
      "1            -1  \n",
      "2            -1  \n",
      "3            -1  \n",
      "4            -1  \n",
      "...         ...  \n",
      "9995        171  \n",
      "9996         56  \n",
      "9997         94  \n",
      "9998        379  \n",
      "9999        126  \n",
      "\n",
      "[10000 rows x 3 columns]\n"
     ]
    }
   ],
   "source": [
    "print(df)"
   ]
  },
  {
   "cell_type": "markdown",
   "id": "f49e68ff",
   "metadata": {},
   "source": [
    "For any 'nan' answers, which were from I make the answer column in the string type, we set the 'start_pos' to -1 to indicate no valid starting position.\n"
   ]
  },
  {
   "cell_type": "code",
   "execution_count": 30,
   "id": "7a5b10d7",
   "metadata": {},
   "outputs": [],
   "source": [
    "df.loc[df['answer'] == \"nan\", 'start_pos'] = -1"
   ]
  },
  {
   "cell_type": "markdown",
   "id": "88884081",
   "metadata": {},
   "source": [
    "Here, we create a bnew 'answers' column to contain a dictionary with the text of the answer and its starting position, tailored to the input needs of transformer-based models that require structured input for training."
   ]
  },
  {
   "cell_type": "code",
   "execution_count": 31,
   "id": "67cabfdb",
   "metadata": {},
   "outputs": [],
   "source": [
    "# Creating a new column 'answers' with structured data for model training\n",
    "df['answers'] = df.apply(\n",
    "    lambda row: {\n",
    "        'text': [row['answer']] if row['answer'] != 'nan' else [],\n",
    "        'answer_start': [row['start_pos']] if row['start_pos'] != -1 else []\n",
    "    },\n",
    "    axis=1\n",
    ")"
   ]
  },
  {
   "cell_type": "code",
   "execution_count": null,
   "id": "6bebe3e5",
   "metadata": {},
   "outputs": [],
   "source": [
    "print(df)"
   ]
  },
  {
   "cell_type": "markdown",
   "id": "0a9db889",
   "metadata": {},
   "source": [
    "A question-answering transformer requires two inputs to extract an answer: a question and a context. I already have the context, and I need the question now. After some playing with transformer models, I choose the question to be \"What is the salary range\" and add a question column to the dataset, which seems to work fine across contexts."
   ]
  },
  {
   "cell_type": "code",
   "execution_count": null,
   "id": "48cd91d8",
   "metadata": {},
   "outputs": [],
   "source": [
    "df['question'] = 'What is the salary range' # Add a Question Column"
   ]
  },
  {
   "cell_type": "markdown",
   "id": "b771e27c",
   "metadata": {},
   "source": [
    "Now we have successfully loaded and processed the training dataset, making it ready for fine-tuning a transformer model. "
   ]
  },
  {
   "cell_type": "markdown",
   "id": "7baf9fe1",
   "metadata": {},
   "source": [
    "## Step 2: Finetune a question answering tranformer using HuggingFace\n",
    "\n",
    "The code I use for this step is based on the code from this link: https://colab.research.google.com/github/huggingface/notebooks/blob/master/examples/question_answering.ipynb."
   ]
  },
  {
   "cell_type": "markdown",
   "id": "045cff86",
   "metadata": {},
   "source": [
    "Now we will fine-tune one of the [🤗 Transformers](https://github.com/huggingface/transformers) model to a question answering task, which is the task of extracting the answer to a question from a given context (job posting).\n",
    "\n",
    "![Widget inference representing the QA task](https://github.com/huggingface/notebooks/blob/main/examples/images/question_answering.png?raw=1)\n",
    "\n",
    "**Note:** This notebook finetunes models that answer question by taking a substring of a context, not by generating new text.\n",
    "\n",
    "There are many pretrained question answering transformer models to choose on Hugging Face. I tested several pretrained models from Huggingface (in early 2023) and deberta-v3-large-squad2 has the best baseline performance, which naturally becomes the model to finetune.\n",
    "\n",
    "\n",
    "This notebook is built to run on any question answering task with the same format as SQUAD (version 1 or 2), with any model checkpoint from the [Model Hub](https://huggingface.co/models) as long as that model has a version with a token classification head and a fast tokenizer (check on [this table](https://huggingface.co/transformers/index.html#bigtable) if this is the case). It might just need some small adjustments if you decide to use a different dataset than the one used here. Depending on you model and the GPU you are using, you might need to adjust the batch size to avoid out-of-memory errors. Set those three parameters, then the rest of the notebook should run smoothly:"
   ]
  },
  {
   "cell_type": "code",
   "execution_count": 6,
   "id": "a19ecef0",
   "metadata": {},
   "outputs": [],
   "source": [
    "# This flag is the difference between SQUAD v1 or 2 (if you're using another dataset, it indicates if impossible\n",
    "# answers are allowed or not). which allows for possible questions with no answer.\n",
    "squad_v2 = True\n",
    "\n",
    "\n",
    "model_checkpoint = \"deepset/deberta-v3-large-squad2\"\n",
    "\n",
    "batch_size = 8 # select batch size based on the model and GPU"
   ]
  },
  {
   "cell_type": "markdown",
   "id": "e7168e80",
   "metadata": {},
   "source": [
    "We will use the [🤗 Datasets](https://github.com/huggingface/datasets) library to get the metric we need to use for evaluation (to compare our model to the benchmark). This can be easily done with the function `load_metric`. "
   ]
  },
  {
   "cell_type": "markdown",
   "id": "9d2ec060",
   "metadata": {},
   "source": [
    "Before we can feed those texts to our model, we need to preprocess them. This is done by a 🤗 Transformers `Tokenizer` which will (as the name indicates) tokenize the inputs (including converting the tokens to their corresponding IDs in the pretrained vocabulary) and put it in a format the model expects, as well as generate the other inputs that model requires.\n",
    "\n",
    "To do all of this, we instantiate our tokenizer with the `AutoTokenizer.from_pretrained` method, which will ensure:\n",
    "\n",
    "- we get a tokenizer that corresponds to the model architecture we want to use,\n",
    "- we download the vocabulary used when pretraining this specific checkpoint.\n",
    "\n",
    "That vocabulary will be cached, so it's not downloaded again the next time we run the cell."
   ]
  },
  {
   "cell_type": "code",
   "execution_count": null,
   "id": "e5bf5c3f",
   "metadata": {},
   "outputs": [],
   "source": [
    "from datasets import load_dataset, load_metric\n",
    "\n",
    "from transformers import AutoTokenizer\n",
    "    \n",
    "tokenizer = AutoTokenizer.from_pretrained(model_checkpoint)"
   ]
  },
  {
   "cell_type": "markdown",
   "id": "8eb3fc4f",
   "metadata": {},
   "source": [
    "The following assertion ensures that our tokenizer is a fast tokenizers (backed by Rust) from the 🤗 Tokenizers library. Those fast tokenizers are available for almost all models, and we will need some of the special features they have for our preprocessing."
   ]
  },
  {
   "cell_type": "code",
   "execution_count": null,
   "id": "f8d8f15c",
   "metadata": {},
   "outputs": [],
   "source": [
    "import transformers\n",
    "assert isinstance(tokenizer, transformers.PreTrainedTokenizerFast)"
   ]
  },
  {
   "cell_type": "markdown",
   "id": "5bd42a0f",
   "metadata": {},
   "source": [
    "Now one specific thing for the preprocessing in question answering is how to deal with very long documents. We usually truncate them in other tasks, when they are longer than the model maximum sentence length, but here, removing part of the the context might result in losing the answer we are looking for. To deal with this, we will allow one (long) example in our dataset to give several input features, each of length shorter than the maximum length of the model (or the one we set as a hyper-parameter). Also, just in case the answer lies at the point we split a long context, we allow some overlap between the features we generate controlled by the hyper-parameter `doc_stride`:"
   ]
  },
  {
   "cell_type": "code",
   "execution_count": null,
   "id": "d4bedbe5",
   "metadata": {},
   "outputs": [],
   "source": [
    "max_length = 384 # The maximum length of a feature (question and context)\n",
    "doc_stride = 128 # The authorized overlap between two part of the context when splitting it is needed."
   ]
  },
  {
   "cell_type": "markdown",
   "id": "c48ae674",
   "metadata": {},
   "source": [
    "Split the labeled dataset into training set and test set with a 85/15 split."
   ]
  },
  {
   "cell_type": "code",
   "execution_count": null,
   "id": "fa8cac2c",
   "metadata": {},
   "outputs": [],
   "source": [
    "from sklearn.model_selection import train_test_split\n",
    "from datasets import Dataset, DatasetDict\n",
    "\n",
    "# set the fraction of data to be used for validation\n",
    "validation_size = 0.15\n",
    "\n",
    "# split the dataset into training and validation sets\n",
    "train_dataset, validation_dataset = train_test_split(df, test_size=validation_size)\n",
    "\n",
    "# check the number of examples in each split\n",
    "print(f\"Number of training examples: {len(train_dataset)}\")\n",
    "print(f\"Number of validation examples: {len(validation_dataset)}\")"
   ]
  },
  {
   "cell_type": "markdown",
   "id": "2f115ac9",
   "metadata": {},
   "source": [
    "The following transformation converts pandas DataFrames into Hugging Face Dataset objects, organizing them into a DatasetDict for easier handling during training."
   ]
  },
  {
   "cell_type": "code",
   "execution_count": null,
   "id": "494db0e5",
   "metadata": {},
   "outputs": [],
   "source": [
    "# Convert DataFrame to Dataset\n",
    "\n",
    "train_dataset = Dataset.from_pandas(train_dataset)\n",
    "valid_dataset = Dataset.from_pandas(validation_dataset)\n",
    "\n",
    "# create the DatasetDict\n",
    "datasets = DatasetDict({'train': train_dataset, 'validation': valid_dataset})\n",
    "print(datasets)"
   ]
  },
  {
   "cell_type": "markdown",
   "id": "f5c66336",
   "metadata": {},
   "source": [
    "For this notebook to work with any kind of models, we need to account for the special case where the model expects padding on the left (in which case we switch the order of the question and the context):"
   ]
  },
  {
   "cell_type": "code",
   "execution_count": null,
   "id": "2b8347c8",
   "metadata": {},
   "outputs": [],
   "source": [
    "pad_on_right = tokenizer.padding_side == \"right\""
   ]
  },
  {
   "cell_type": "markdown",
   "id": "e2e7627e",
   "metadata": {},
   "source": [
    "Now let's put everything together in one function we will apply to our training set. In the case of impossible answers (the answer is in another feature given by an example with a long context), we set the cls index for both the start and end position. We could also simply discard those examples from the training set if the flag `allow_impossible_answers` is `False`. Since the preprocessing is already complex enough as it is, we've kept is simple for this part."
   ]
  },
  {
   "cell_type": "code",
   "execution_count": null,
   "id": "0a190f5f",
   "metadata": {},
   "outputs": [],
   "source": [
    "def prepare_train_features(examples):\n",
    "    # Some of the questions have lots of whitespace on the left, which is not useful and will make the\n",
    "    # truncation of the context fail (the tokenized question will take a lots of space). So we remove that\n",
    "    # left whitespace\n",
    "    examples[\"question\"] = [q.lstrip() for q in examples[\"question\"]]\n",
    "\n",
    "    # Tokenize our examples with truncation and padding, but keep the overflows using a stride. This results\n",
    "    # in one example possible giving several features when a context is long, each of those features having a\n",
    "    # context that overlaps a bit the context of the previous feature.\n",
    "    tokenized_examples = tokenizer(\n",
    "        examples[\"question\" if pad_on_right else \"context\"],\n",
    "        examples[\"context\" if pad_on_right else \"question\"],\n",
    "        truncation=\"only_second\" if pad_on_right else \"only_first\",\n",
    "        max_length=max_length,\n",
    "        stride=doc_stride,\n",
    "        return_overflowing_tokens=True,\n",
    "        return_offsets_mapping=True,\n",
    "        padding=\"max_length\",\n",
    "    )\n",
    "\n",
    "    # Since one example might give us several features if it has a long context, we need a map from a feature to\n",
    "    # its corresponding example. This key gives us just that.\n",
    "    sample_mapping = tokenized_examples.pop(\"overflow_to_sample_mapping\")\n",
    "    print(\"sample_mapping_is\" , sample_mapping)\n",
    "    # The offset mappings will give us a map from token to character position in the original context. This will\n",
    "    # help us compute the start_positions and end_positions.\n",
    "    offset_mapping = tokenized_examples.pop(\"offset_mapping\")\n",
    "    print(\"offset_mapping_is\" , offset_mapping)\n",
    "\n",
    "\n",
    "    # Let's label those examples!\n",
    "    tokenized_examples[\"start_positions\"] = []\n",
    "    tokenized_examples[\"end_positions\"] = []\n",
    "\n",
    "    for i, offsets in enumerate(offset_mapping):\n",
    "        # We will label impossible answers with the index of the CLS token.\n",
    "        input_ids = tokenized_examples[\"input_ids\"][i]\n",
    "        cls_index = input_ids.index(tokenizer.cls_token_id)\n",
    "\n",
    "        # Grab the sequence corresponding to that example (to know what is the context and what is the question).\n",
    "        sequence_ids = tokenized_examples.sequence_ids(i)\n",
    "\n",
    "        # One example can give several spans, this is the index of the example containing this span of text.\n",
    "        sample_index = sample_mapping[i]\n",
    "        answers = examples[\"answers\"][sample_index]\n",
    "        # If no answers are given, set the cls_index as answer.\n",
    "        if len(answers[\"answer_start\"]) == 0:\n",
    "            tokenized_examples[\"start_positions\"].append(cls_index)\n",
    "            tokenized_examples[\"end_positions\"].append(cls_index)\n",
    "        else:\n",
    "            # Start/end character index of the answer in the text.\n",
    "            try:\n",
    "                start_char = answers[\"answer_start\"][0]\n",
    "                end_char = start_char + len(answers[\"text\"][0])\n",
    "            except:\n",
    "                print(\"hahahah\")\n",
    "                print(answers)\n",
    "                \n",
    "\n",
    "            # Start token index of the current span in the text.\n",
    "            token_start_index = 0\n",
    "            while sequence_ids[token_start_index] != (1 if pad_on_right else 0):\n",
    "                token_start_index += 1\n",
    "\n",
    "            # End token index of the current span in the text.\n",
    "            token_end_index = len(input_ids) - 1\n",
    "            while sequence_ids[token_end_index] != (1 if pad_on_right else 0):\n",
    "                token_end_index -= 1\n",
    "\n",
    "            # Detect if the answer is out of the span (in which case this feature is labeled with the CLS index).\n",
    "            if not (offsets[token_start_index][0] <= start_char and offsets[token_end_index][1] >= end_char):\n",
    "                tokenized_examples[\"start_positions\"].append(cls_index)\n",
    "                tokenized_examples[\"end_positions\"].append(cls_index)\n",
    "            else:\n",
    "                # Otherwise move the token_start_index and token_end_index to the two ends of the answer.\n",
    "                # Note: we could go after the last offset if the answer is the last word (edge case).\n",
    "                while token_start_index < len(offsets) and offsets[token_start_index][0] <= start_char:\n",
    "                    token_start_index += 1\n",
    "                tokenized_examples[\"start_positions\"].append(token_start_index - 1)\n",
    "                while offsets[token_end_index][1] >= end_char:\n",
    "                    token_end_index -= 1\n",
    "                tokenized_examples[\"end_positions\"].append(token_end_index + 1)\n",
    "\n",
    "    return tokenized_examples"
   ]
  },
  {
   "cell_type": "markdown",
   "id": "a3a253ef",
   "metadata": {},
   "source": [
    "To apply this function on all the sentences (or pairs of sentences) in our dataset, we just use the `map` method of our `dataset` object we created earlier. This will apply the function on all the elements of all the splits in `dataset`, so our training, validation and testing data will be preprocessed in one single command. Since our preprocessing changes the number of samples, we need to remove the old columns when applying it."
   ]
  },
  {
   "cell_type": "code",
   "execution_count": null,
   "id": "cdca2b7d",
   "metadata": {},
   "outputs": [],
   "source": [
    "tokenized_datasets = datasets.map(prepare_train_features, batched=True, remove_columns=datasets[\"train\"].column_names)"
   ]
  },
  {
   "cell_type": "markdown",
   "id": "8c4d69fd",
   "metadata": {},
   "source": [
    "Even better, the results are automatically cached by the 🤗 Datasets library to avoid spending time on this step the next time you run your notebook. The 🤗 Datasets library is normally smart enough to detect when the function you pass to map has changed (and thus requires to not use the cache data). For instance, it will properly detect if you change the task in the first cell and rerun the notebook. 🤗 Datasets warns you when it uses cached files, you can pass `load_from_cache_file=False` in the call to `map` to not use the cached files and force the preprocessing to be applied again.\n",
    "\n",
    "Note that we passed `batched=True` to encode the texts by batches together. This is to leverage the full benefit of the fast tokenizer we loaded earlier, which will use multi-threading to treat the texts in a batch concurrently."
   ]
  },
  {
   "cell_type": "markdown",
   "id": "9815872a",
   "metadata": {},
   "source": [
    "## Fine-tuning the model\n",
    "\n",
    "Now that our data is ready for training, we can download the pretrained model and fine-tune it. Since our task is question answering, we use the `AutoModelForQuestionAnswering` class. Like with the tokenizer, the `from_pretrained` method will download and cache the model for us:"
   ]
  },
  {
   "cell_type": "code",
   "execution_count": null,
   "id": "558a7b1b",
   "metadata": {},
   "outputs": [],
   "source": [
    "from transformers import AutoModelForQuestionAnswering, TrainingArguments, Trainer\n",
    "\n",
    "model = AutoModelForQuestionAnswering.from_pretrained(model_checkpoint)"
   ]
  },
  {
   "cell_type": "markdown",
   "id": "9e83d26e",
   "metadata": {},
   "source": [
    "The warning is telling us we are throwing away some weights (the `vocab_transform` and `vocab_layer_norm` layers) and randomly initializing some other (the `pre_classifier` and `classifier` layers). This is absolutely normal in this case, because we are removing the head used to pretrain the model on a masked language modeling objective and replacing it with a new head for which we don't have pretrained weights, so the library warns us we should fine-tune this model before using it for inference, which is exactly what we are going to do.\n",
    "\n",
    "To instantiate a `Trainer`, we will need to define three more things. The most important is the [`TrainingArguments`](https://huggingface.co/transformers/main_classes/trainer.html#transformers.TrainingArguments), which is a class that contains all the attributes to customize the training. It requires one folder name, which will be used to save the checkpoints of the model, and all other arguments are optional:"
   ]
  },
  {
   "cell_type": "code",
   "execution_count": null,
   "id": "dcbe4925",
   "metadata": {},
   "outputs": [],
   "source": [
    "model_name = model_checkpoint.split(\"/\")[-1]\n",
    "args = TrainingArguments(\n",
    "    f\"{model_name}-finetuned-jobposting\",\n",
    "    evaluation_strategy = \"steps\",\n",
    "    learning_rate=2e-5,\n",
    "    #learning_rate=5e-5,\n",
    "    per_device_train_batch_size=batch_size,\n",
    "    per_device_eval_batch_size=batch_size,\n",
    "    num_train_epochs=3,\n",
    "    weight_decay=0.01,\n",
    "    push_to_hub=False,\n",
    "    logging_steps = 50,\n",
    "    gradient_accumulation_steps = 16\n",
    ")"
   ]
  },
  {
   "cell_type": "markdown",
   "id": "f445286a",
   "metadata": {},
   "source": [
    "Here we set the evaluation to be done at the end of each epoch, tweak the learning rate, use the `batch_size` defined at the top of the notebook and customize the number of epochs for training, as well as the weight decay.\n",
    "\n",
    "The last argument to setup everything so we can push the model to the [Hub](https://huggingface.co/models) regularly during training. Remove it if you didn't follow the installation steps at the top of the notebook. If you want to save your model locally in a name that is different than the name of the repository it will be pushed, or if you want to push your model under an organization and not your name space, use the `hub_model_id` argument to set the repo name (it needs to be the full name, including your namespace: for instance `\"sgugger/bert-finetuned-squad\"` or `\"huggingface/bert-finetuned-squad\"`).\n",
    "\n",
    "Then we will need a data collator that will batch our processed examples together, here the default one will work:"
   ]
  },
  {
   "cell_type": "code",
   "execution_count": null,
   "id": "77fcbdf9",
   "metadata": {},
   "outputs": [],
   "source": [
    "from transformers import default_data_collator\n",
    "\n",
    "data_collator = default_data_collator"
   ]
  },
  {
   "cell_type": "markdown",
   "id": "6ec07e2e",
   "metadata": {},
   "source": [
    "We will evaluate our model and compute metrics in the next section (this is a very long operation, so we will only compute the evaluation loss during training).\n",
    "\n",
    "Then we just need to pass all of this along with our datasets to the `Trainer`:"
   ]
  },
  {
   "cell_type": "code",
   "execution_count": null,
   "id": "5e95698f",
   "metadata": {},
   "outputs": [],
   "source": [
    "trainer = Trainer(\n",
    "    model,\n",
    "    args,\n",
    "    train_dataset=tokenized_datasets[\"train\"],\n",
    "    eval_dataset=tokenized_datasets[\"validation\"], # validation\n",
    "    data_collator=data_collator,\n",
    "    tokenizer=tokenizer,\n",
    ")"
   ]
  },
  {
   "cell_type": "markdown",
   "id": "89a66d7d",
   "metadata": {},
   "source": [
    "We can now finetune our model by just calling the `train` method:"
   ]
  },
  {
   "cell_type": "code",
   "execution_count": null,
   "id": "8509366c",
   "metadata": {},
   "outputs": [],
   "source": [
    "trainer.train(resume_from_checkpoint=False)"
   ]
  },
  {
   "cell_type": "markdown",
   "id": "8df99e00",
   "metadata": {},
   "source": [
    "Since this training is particularly long, let's save the model just in case we need to restart."
   ]
  },
  {
   "cell_type": "code",
   "execution_count": null,
   "id": "4141ea52",
   "metadata": {},
   "outputs": [],
   "source": [
    "trainer.save_model(\"jobposting-trained\")"
   ]
  },
  {
   "cell_type": "markdown",
   "id": "6a8823aa",
   "metadata": {},
   "source": [
    "## Evaluation\n",
    "Evaluating the finetuned model will require a bit more work, as we will need to map the predictions of our model back to parts of the context. The model itself predicts logits for the start and en position of our answers: if we take a batch from our validation datalaoder, here is the output our model gives us:"
   ]
  },
  {
   "cell_type": "code",
   "execution_count": null,
   "id": "6b62b924",
   "metadata": {},
   "outputs": [],
   "source": [
    "import torch\n",
    "\n",
    "for batch in trainer.get_eval_dataloader():\n",
    "    break\n",
    "batch = {k: v.to(trainer.args.device) for k, v in batch.items()}\n",
    "with torch.no_grad():\n",
    "    output = trainer.model(**batch)\n",
    "output.keys()"
   ]
  },
  {
   "cell_type": "code",
   "execution_count": null,
   "id": "6f03ee57",
   "metadata": {},
   "outputs": [],
   "source": [
    "n_best_size = 20"
   ]
  },
  {
   "cell_type": "code",
   "execution_count": null,
   "id": "2eb4e9fb",
   "metadata": {},
   "outputs": [],
   "source": [
    "import numpy as np\n",
    "\n",
    "start_logits = output.start_logits[0].cpu().numpy()\n",
    "end_logits = output.end_logits[0].cpu().numpy()\n",
    "# Gather the indices the best start/end logits:\n",
    "start_indexes = np.argsort(start_logits)[-1 : -n_best_size - 1 : -1].tolist()\n",
    "end_indexes = np.argsort(end_logits)[-1 : -n_best_size - 1 : -1].tolist()\n",
    "valid_answers = []\n",
    "for start_index in start_indexes:\n",
    "    for end_index in end_indexes:\n",
    "        if start_index <= end_index: # We need to refine that test to check the answer is inside the context\n",
    "            valid_answers.append(\n",
    "                {\n",
    "                    \"score\": start_logits[start_index] + end_logits[end_index],\n",
    "                    \"text\": \"\" # We need to find a way to get back the original substring corresponding to the answer in the context\n",
    "                }\n",
    "            )"
   ]
  },
  {
   "cell_type": "markdown",
   "id": "55ebe9d6",
   "metadata": {},
   "source": [
    "And then we can sort the `valid_answers` according to their `score` and only keep the best one. The only point left is how to check a given span is inside the context (and not the question) and how to get back the text inside. To do this, we need to add two things to our validation features:\n",
    "- the ID of the example that generated the feature (since each example can generate several features, as seen before);\n",
    "- the offset mapping that will give us a map from token indices to character positions in the context.\n",
    "\n",
    "That's why we will re-process the validation set with the following function, slightly different from `prepare_train_features`:"
   ]
  },
  {
   "cell_type": "code",
   "execution_count": null,
   "id": "19145f1b",
   "metadata": {},
   "outputs": [],
   "source": [
    "def prepare_validation_features(examples):\n",
    "    # Some of the questions have lots of whitespace on the left, which is not useful and will make the\n",
    "    # truncation of the context fail (the tokenized question will take a lots of space). So we remove that\n",
    "    # left whitespace\n",
    "    examples[\"question\"] = [q.lstrip() for q in examples[\"question\"]]\n",
    "\n",
    "    # Tokenize our examples with truncation and maybe padding, but keep the overflows using a stride. This results\n",
    "    # in one example possible giving several features when a context is long, each of those features having a\n",
    "    # context that overlaps a bit the context of the previous feature.\n",
    "    tokenized_examples = tokenizer(\n",
    "        examples[\"question\" if pad_on_right else \"context\"],\n",
    "        examples[\"context\" if pad_on_right else \"question\"],\n",
    "        truncation=\"only_second\" if pad_on_right else \"only_first\",\n",
    "        max_length=max_length,\n",
    "        stride=doc_stride,\n",
    "        return_overflowing_tokens=True,\n",
    "        return_offsets_mapping=True,\n",
    "        padding=\"max_length\",\n",
    "    )\n",
    "\n",
    "    # Since one example might give us several features if it has a long context, we need a map from a feature to\n",
    "    # its corresponding example. This key gives us just that.\n",
    "    sample_mapping = tokenized_examples.pop(\"overflow_to_sample_mapping\")\n",
    "\n",
    "    # We keep the example_id that gave us this feature and we will store the offset mappings.\n",
    "    tokenized_examples[\"example_id\"] = []\n",
    "\n",
    "    for i in range(len(tokenized_examples[\"input_ids\"])):\n",
    "        # Grab the sequence corresponding to that example (to know what is the context and what is the question).\n",
    "        sequence_ids = tokenized_examples.sequence_ids(i)\n",
    "        context_index = 1 if pad_on_right else 0\n",
    "\n",
    "        # One example can give several spans, this is the index of the example containing this span of text.\n",
    "        sample_index = sample_mapping[i]\n",
    "        tokenized_examples[\"example_id\"].append(examples[\"id\"][sample_index])\n",
    "\n",
    "        # Set to None the offset_mapping that are not part of the context so it's easy to determine if a token\n",
    "        # position is part of the context or not.\n",
    "        tokenized_examples[\"offset_mapping\"][i] = [\n",
    "            (o if sequence_ids[k] == context_index else None)\n",
    "            for k, o in enumerate(tokenized_examples[\"offset_mapping\"][i])\n",
    "        ]\n",
    "\n",
    "    return tokenized_examples"
   ]
  },
  {
   "cell_type": "markdown",
   "id": "6f977df8",
   "metadata": {},
   "source": [
    "And like before, we can apply that function to our validation set easily:"
   ]
  },
  {
   "cell_type": "code",
   "execution_count": null,
   "id": "65374573",
   "metadata": {},
   "outputs": [],
   "source": [
    "validation_features = datasets[\"validation\"].map(\n",
    "    prepare_validation_features,\n",
    "    batched=True,\n",
    "    remove_columns=datasets[\"validation\"].column_names\n",
    ")"
   ]
  },
  {
   "cell_type": "markdown",
   "id": "ab2e3d18",
   "metadata": {},
   "source": [
    "Now we can grab the predictions for all features by using the `Trainer.predict` method:"
   ]
  },
  {
   "cell_type": "code",
   "execution_count": 189,
   "id": "8af9cca5",
   "metadata": {
    "scrolled": true
   },
   "outputs": [
    {
     "name": "stderr",
     "output_type": "stream",
     "text": [
      "The following columns in the test set don't have a corresponding argument in `DebertaV2ForQuestionAnswering.forward` and have been ignored: offset_mapping, example_id. If offset_mapping, example_id are not expected by `DebertaV2ForQuestionAnswering.forward`,  you can safely ignore this message.\n",
      "***** Running Prediction *****\n",
      "  Num examples = 3302\n",
      "  Batch size = 8\n"
     ]
    },
    {
     "data": {
      "text/html": [],
      "text/plain": [
       "<IPython.core.display.HTML object>"
      ]
     },
     "metadata": {},
     "output_type": "display_data"
    }
   ],
   "source": [
    "raw_predictions = trainer.predict(validation_features)"
   ]
  },
  {
   "cell_type": "markdown",
   "id": "2ae8e52f",
   "metadata": {},
   "source": [
    "The `Trainer` *hides* the columns that are not used by the model (here `example_id` and `offset_mapping` which we will need for our post-processing), so we set them back:"
   ]
  },
  {
   "cell_type": "code",
   "execution_count": 190,
   "id": "13945a42",
   "metadata": {},
   "outputs": [],
   "source": [
    "validation_features.set_format(type=validation_features.format[\"type\"], columns=list(validation_features.features.keys()))"
   ]
  },
  {
   "cell_type": "markdown",
   "id": "68203cd6",
   "metadata": {},
   "source": [
    "We can now refine the test we had before: since we set `None` in the offset mappings when it corresponds to a part of the question, it's easy to check if an answer is fully inside the context. We also eliminate very long answers from our considerations (with an hyper-parameter we can tune)"
   ]
  },
  {
   "cell_type": "code",
   "execution_count": 191,
   "id": "4e7fd3a6",
   "metadata": {},
   "outputs": [],
   "source": [
    "max_answer_length = 30"
   ]
  },
  {
   "cell_type": "code",
   "execution_count": 192,
   "id": "1f7c973e",
   "metadata": {
    "scrolled": true
   },
   "outputs": [
    {
     "data": {
      "text/plain": [
       "[{'score': 18.02921, 'text': ' salary range: $70,171 to $124,020 / per year'},\n",
       " {'score': 16.397919, 'text': ' $70,171 to $124,020 / per year'},\n",
       " {'score': 11.685001, 'text': ' salary range: $70,171 to $124,020'},\n",
       " {'score': 11.337915, 'text': ' range: $70,171 to $124,020 / per year'},\n",
       " {'score': 11.114033,\n",
       "  'text': ' salary range: $70,171 to $124,020 / per year open'},\n",
       " {'score': 10.053709, 'text': ' $70,171 to $124,020'},\n",
       " {'score': 9.58847, 'text': ' salary range: $70,171 to $124,020 / per'},\n",
       " {'score': 9.565637, 'text': ' salary range: $70,171 to $124,020 /'},\n",
       " {'score': 9.494775, 'text': ' salary'},\n",
       " {'score': 9.48274, 'text': ' $70,171 to $124,020 / per year open'},\n",
       " {'score': 8.478324, 'text': ' salary range:'},\n",
       " {'score': 8.258965, 'text': '70,171 to $124,020 / per year'},\n",
       " {'score': 8.207971, 'text': ' $124,020 / per year'},\n",
       " {'score': 8.137117, 'text': ' salary range'},\n",
       " {'score': 8.133571, 'text': ' year'},\n",
       " {'score': 7.9571786, 'text': ' $70,171 to $124,020 / per'},\n",
       " {'score': 7.934345, 'text': ' $70,171 to $124,020 /'},\n",
       " {'score': 7.670898, 'text': ' salary range: $70,171 to'},\n",
       " {'score': 7.5522223, 'text': ' salary range: $70,171 to $124,'},\n",
       " {'score': 7.4026737, 'text': ' salary range: $70,171'}]"
      ]
     },
     "execution_count": 192,
     "metadata": {},
     "output_type": "execute_result"
    }
   ],
   "source": [
    "start_logits = output.start_logits[0].cpu().numpy()\n",
    "end_logits = output.end_logits[0].cpu().numpy()\n",
    "offset_mapping = validation_features[0][\"offset_mapping\"]\n",
    "# The first feature comes from the first example. For the more general case, we will need to be match the example_id to\n",
    "# an example index\n",
    "context = datasets[\"validation\"][0][\"context\"]\n",
    "\n",
    "# Gather the indices the best start/end logits:\n",
    "start_indexes = np.argsort(start_logits)[-1 : -n_best_size - 1 : -1].tolist()\n",
    "end_indexes = np.argsort(end_logits)[-1 : -n_best_size - 1 : -1].tolist()\n",
    "valid_answers = []\n",
    "for start_index in start_indexes:\n",
    "    for end_index in end_indexes:\n",
    "        # Don't consider out-of-scope answers, either because the indices are out of bounds or correspond\n",
    "        # to part of the input_ids that are not in the context.\n",
    "        if (\n",
    "            start_index >= len(offset_mapping)\n",
    "            or end_index >= len(offset_mapping)\n",
    "            or offset_mapping[start_index] is None\n",
    "            or offset_mapping[end_index] is None\n",
    "        ):\n",
    "            continue\n",
    "        # Don't consider answers with a length that is either < 0 or > max_answer_length.\n",
    "        if end_index < start_index or end_index - start_index + 1 > max_answer_length:\n",
    "            continue\n",
    "        if start_index <= end_index: # We need to refine that test to check the answer is inside the context\n",
    "            start_char = offset_mapping[start_index][0]\n",
    "            end_char = offset_mapping[end_index][1]\n",
    "            valid_answers.append(\n",
    "                {\n",
    "                    \"score\": start_logits[start_index] + end_logits[end_index],\n",
    "                    \"text\": context[start_char: end_char]\n",
    "                }\n",
    "            )\n",
    "\n",
    "valid_answers = sorted(valid_answers, key=lambda x: x[\"score\"], reverse=True)[:n_best_size]\n",
    "valid_answers"
   ]
  },
  {
   "cell_type": "markdown",
   "id": "8e72f3b2",
   "metadata": {},
   "source": [
    "We can compare to the actual ground-truth answer:"
   ]
  },
  {
   "cell_type": "code",
   "execution_count": 193,
   "id": "6e4acd5e",
   "metadata": {},
   "outputs": [
    {
     "data": {
      "text/plain": [
       "{'answer_start': [595], 'text': ['$70,171 to $124,020 / per year']}"
      ]
     },
     "execution_count": 193,
     "metadata": {},
     "output_type": "execute_result"
    }
   ],
   "source": [
    "datasets[\"validation\"][0][\"answers\"]"
   ]
  },
  {
   "cell_type": "markdown",
   "id": "eb4b407a",
   "metadata": {},
   "source": [
    "Our model picked the right answer!\n",
    "\n",
    "As we mentioned in the code above, this was easy on the first feature because we knew it comes from the first example. For the other features, we will need a map between examples and their corresponding features. Also, since one example can give several features, we will need to gather together all the answers in all the features generated by a given example, then pick the best one. The following code builds a map from example index to its corresponding features indices:"
   ]
  },
  {
   "cell_type": "code",
   "execution_count": 194,
   "id": "ba03e9e4",
   "metadata": {},
   "outputs": [],
   "source": [
    "import collections\n",
    "\n",
    "examples = datasets[\"validation\"]\n",
    "features = validation_features\n",
    "\n",
    "example_id_to_index = {k: i for i, k in enumerate(examples[\"id\"])}\n",
    "features_per_example = collections.defaultdict(list)\n",
    "for i, feature in enumerate(features):\n",
    "    features_per_example[example_id_to_index[feature[\"example_id\"]]].append(i)"
   ]
  },
  {
   "cell_type": "markdown",
   "id": "2b6f0a72",
   "metadata": {},
   "source": [
    "We're almost ready for our post-processing function. The last bit to deal with is the impossible answer (when `squad_v2 = True`). The code above only keeps answers that are inside the context, we need to also grab the score for the impossible answer (which has start and end indices corresponding to the index of the CLS token). When one example gives several features, we have to predict the impossible answer when all the features give a high score to the impossible answer (since one feature could predict the impossible answer just because the answer isn't in the part of the context it has access too), which is why the score of the impossible answer for one example is the *minimum* of the scores for the impossible answer in each feature generated by the example.\n",
    "\n",
    "We then predict the impossible answer when that score is greater than the score of the best non-impossible answer. All combined together, this gives us this post-processing function:"
   ]
  },
  {
   "cell_type": "code",
   "execution_count": 195,
   "id": "f63b0123",
   "metadata": {},
   "outputs": [],
   "source": [
    "from tqdm.auto import tqdm\n",
    "\n",
    "def postprocess_qa_predictions(examples, features, raw_predictions, n_best_size = 20, max_answer_length = 30):\n",
    "    all_start_logits, all_end_logits = raw_predictions\n",
    "    # Build a map example to its corresponding features.\n",
    "    example_id_to_index = {k: i for i, k in enumerate(examples[\"id\"])}\n",
    "    features_per_example = collections.defaultdict(list)\n",
    "    for i, feature in enumerate(features):\n",
    "        features_per_example[example_id_to_index[feature[\"example_id\"]]].append(i)\n",
    "\n",
    "    # The dictionaries we have to fill.\n",
    "    predictions = collections.OrderedDict()\n",
    "\n",
    "    # Logging.\n",
    "    print(f\"Post-processing {len(examples)} example predictions split into {len(features)} features.\")\n",
    "\n",
    "    # Let's loop over all the examples!\n",
    "    for example_index, example in enumerate(tqdm(examples)):\n",
    "        # Those are the indices of the features associated to the current example.\n",
    "        feature_indices = features_per_example[example_index]\n",
    "\n",
    "        min_null_score = None # Only used if squad_v2 is True.\n",
    "        valid_answers = []\n",
    "        \n",
    "        context = example[\"context\"]\n",
    "        # Looping through all the features associated to the current example.\n",
    "        for feature_index in feature_indices:\n",
    "            # We grab the predictions of the model for this feature.\n",
    "            start_logits = all_start_logits[feature_index]\n",
    "            end_logits = all_end_logits[feature_index]\n",
    "            # This is what will allow us to map some the positions in our logits to span of texts in the original\n",
    "            # context.\n",
    "            offset_mapping = features[feature_index][\"offset_mapping\"]\n",
    "\n",
    "            # Update minimum null prediction.\n",
    "            cls_index = features[feature_index][\"input_ids\"].index(tokenizer.cls_token_id)\n",
    "            feature_null_score = start_logits[cls_index] + end_logits[cls_index]\n",
    "            if min_null_score is None or min_null_score < feature_null_score:\n",
    "                min_null_score = feature_null_score\n",
    "\n",
    "            # Go through all possibilities for the `n_best_size` greater start and end logits.\n",
    "            start_indexes = np.argsort(start_logits)[-1 : -n_best_size - 1 : -1].tolist()\n",
    "            end_indexes = np.argsort(end_logits)[-1 : -n_best_size - 1 : -1].tolist()\n",
    "            for start_index in start_indexes:\n",
    "                for end_index in end_indexes:\n",
    "                    # Don't consider out-of-scope answers, either because the indices are out of bounds or correspond\n",
    "                    # to part of the input_ids that are not in the context.\n",
    "                    if (\n",
    "                        start_index >= len(offset_mapping)\n",
    "                        or end_index >= len(offset_mapping)\n",
    "                        or offset_mapping[start_index] is None\n",
    "                        or offset_mapping[end_index] is None\n",
    "                    ):\n",
    "                        continue\n",
    "                    # Don't consider answers with a length that is either < 0 or > max_answer_length.\n",
    "                    if end_index < start_index or end_index - start_index + 1 > max_answer_length:\n",
    "                        continue\n",
    "\n",
    "                    start_char = offset_mapping[start_index][0]\n",
    "                    end_char = offset_mapping[end_index][1]\n",
    "                    valid_answers.append(\n",
    "                        {\n",
    "                            \"score\": start_logits[start_index] + end_logits[end_index],\n",
    "                            \"text\": context[start_char: end_char]\n",
    "                        }\n",
    "                    )\n",
    "        \n",
    "        if len(valid_answers) > 0:\n",
    "            best_answer = sorted(valid_answers, key=lambda x: x[\"score\"], reverse=True)[0]\n",
    "        else:\n",
    "            # In the very rare edge case we have not a single non-null prediction, we create a fake prediction to avoid\n",
    "            # failure.\n",
    "            best_answer = {\"text\": \"\", \"score\": 0.0}\n",
    "        \n",
    "        # Let's pick our final answer: the best one or the null answer (only for squad_v2)\n",
    "        if not squad_v2:\n",
    "            predictions[example[\"id\"]] = best_answer[\"text\"]\n",
    "        else:\n",
    "            answer = best_answer[\"text\"] if best_answer[\"score\"] > min_null_score else \"\"\n",
    "            predictions[example[\"id\"]] = answer\n",
    "\n",
    "    return predictions"
   ]
  },
  {
   "cell_type": "markdown",
   "id": "3ff3dd88",
   "metadata": {},
   "source": [
    "And we can apply our post-processing function to our raw predictions:"
   ]
  },
  {
   "cell_type": "code",
   "execution_count": 196,
   "id": "f89e750d",
   "metadata": {},
   "outputs": [
    {
     "name": "stdout",
     "output_type": "stream",
     "text": [
      "Post-processing 2694 example predictions split into 3302 features.\n"
     ]
    },
    {
     "data": {
      "application/vnd.jupyter.widget-view+json": {
       "model_id": "273c3aecb9a642eab6d9c21b757d4b21",
       "version_major": 2,
       "version_minor": 0
      },
      "text/plain": [
       "  0%|          | 0/2694 [00:00<?, ?it/s]"
      ]
     },
     "metadata": {},
     "output_type": "display_data"
    }
   ],
   "source": [
    "final_predictions = postprocess_qa_predictions(datasets[\"validation\"], validation_features, raw_predictions.predictions)"
   ]
  },
  {
   "cell_type": "markdown",
   "id": "afa89905",
   "metadata": {},
   "source": [
    "Then we can load the metric from the datasets library."
   ]
  },
  {
   "cell_type": "code",
   "execution_count": 197,
   "id": "5a9cbaf3",
   "metadata": {},
   "outputs": [
    {
     "name": "stderr",
     "output_type": "stream",
     "text": [
      "/tmp/local/7580721/ipykernel_139211/2905994612.py:1: FutureWarning: load_metric is deprecated and will be removed in the next major version of datasets. Use 'evaluate.load' instead, from the new library 🤗 Evaluate: https://huggingface.co/docs/evaluate\n",
      "  metric = load_metric(\"squad_v2\" if squad_v2 else \"squad\")\n"
     ]
    }
   ],
   "source": [
    "metric = load_metric(\"squad_v2\" if squad_v2 else \"squad\")"
   ]
  },
  {
   "cell_type": "markdown",
   "id": "a8cd33e1",
   "metadata": {},
   "source": [
    "Then we can call compute on it. We just need to format predictions and labels a bit as it expects a list of dictionaries and not one big dictionary. In the case of squad_v2, we also have to set a `no_answer_probability` argument (which we set to 0.0 here as we have already set the answer to empty if we picked it)."
   ]
  },
  {
   "cell_type": "code",
   "execution_count": 198,
   "id": "32c20ffa",
   "metadata": {
    "scrolled": true
   },
   "outputs": [
    {
     "data": {
      "text/plain": [
       "{'exact': 88.0475129918337,\n",
       " 'f1': 93.76478549084337,\n",
       " 'total': 2694,\n",
       " 'HasAns_exact': 82.62857142857143,\n",
       " 'HasAns_f1': 91.42990406418981,\n",
       " 'HasAns_total': 1750,\n",
       " 'NoAns_exact': 98.09322033898304,\n",
       " 'NoAns_f1': 98.09322033898304,\n",
       " 'NoAns_total': 944,\n",
       " 'best_exact': 88.0475129918337,\n",
       " 'best_exact_thresh': 0.0,\n",
       " 'best_f1': 93.76478549084341,\n",
       " 'best_f1_thresh': 0.0}"
      ]
     },
     "execution_count": 198,
     "metadata": {},
     "output_type": "execute_result"
    }
   ],
   "source": [
    "if squad_v2:\n",
    "    formatted_predictions = [{\"id\": k, \"prediction_text\": v, \"no_answer_probability\": 0.0} for k, v in final_predictions.items()]\n",
    "else:\n",
    "    formatted_predictions = [{\"id\": k, \"prediction_text\": v} for k, v in final_predictions.items()]\n",
    "references = [{\"id\": ex[\"id\"], \"answers\": ex[\"answers\"]} for ex in datasets[\"validation\"]]#validation\n",
    "metric.compute(predictions=formatted_predictions, references=references)"
   ]
  },
  {
   "cell_type": "markdown",
   "id": "7f766ad1",
   "metadata": {},
   "source": [
    "Hooray! The finetuned model achieves an exact match rate of 88.05% and an F1 score of 93.76%, which is fantastic and good enough for the subsequent research."
   ]
  },
  {
   "cell_type": "code",
   "execution_count": 207,
   "id": "23c1f61d",
   "metadata": {},
   "outputs": [
    {
     "name": "stderr",
     "output_type": "stream",
     "text": [
      "loading configuration file config.json from cache at /mnt/home/fengkexi/.cache/huggingface/hub/models--deepset--deberta-v3-base-squad2/snapshots/9258f36d79eb17f9ccf2b3bcae1ce8952e8da76d/config.json\n",
      "Model config DebertaV2Config {\n",
      "  \"_name_or_path\": \"deepset/deberta-v3-base-squad2\",\n",
      "  \"architectures\": [\n",
      "    \"DebertaV2ForQuestionAnswering\"\n",
      "  ],\n",
      "  \"attention_probs_dropout_prob\": 0.1,\n",
      "  \"hidden_act\": \"gelu\",\n",
      "  \"hidden_dropout_prob\": 0.1,\n",
      "  \"hidden_size\": 768,\n",
      "  \"initializer_range\": 0.02,\n",
      "  \"intermediate_size\": 3072,\n",
      "  \"language\": \"english\",\n",
      "  \"layer_norm_eps\": 1e-07,\n",
      "  \"max_position_embeddings\": 512,\n",
      "  \"max_relative_positions\": -1,\n",
      "  \"model_type\": \"deberta-v2\",\n",
      "  \"name\": \"DebertaV2\",\n",
      "  \"norm_rel_ebd\": \"layer_norm\",\n",
      "  \"num_attention_heads\": 12,\n",
      "  \"num_hidden_layers\": 12,\n",
      "  \"pad_token_id\": 0,\n",
      "  \"pooler_dropout\": 0,\n",
      "  \"pooler_hidden_act\": \"gelu\",\n",
      "  \"pooler_hidden_size\": 768,\n",
      "  \"pos_att_type\": [\n",
      "    \"p2c\",\n",
      "    \"c2p\"\n",
      "  ],\n",
      "  \"position_biased_input\": false,\n",
      "  \"position_buckets\": 256,\n",
      "  \"relative_attention\": true,\n",
      "  \"share_att_key\": true,\n",
      "  \"summary_activation\": \"tanh\",\n",
      "  \"summary_last_dropout\": 0,\n",
      "  \"summary_type\": \"first\",\n",
      "  \"summary_use_proj\": false,\n",
      "  \"torch_dtype\": \"float32\",\n",
      "  \"transformers_version\": \"4.25.1\",\n",
      "  \"type_vocab_size\": 0,\n",
      "  \"vocab_size\": 128100\n",
      "}\n",
      "\n",
      "loading configuration file config.json from cache at /mnt/home/fengkexi/.cache/huggingface/hub/models--deepset--deberta-v3-base-squad2/snapshots/9258f36d79eb17f9ccf2b3bcae1ce8952e8da76d/config.json\n",
      "Model config DebertaV2Config {\n",
      "  \"_name_or_path\": \"deepset/deberta-v3-base-squad2\",\n",
      "  \"architectures\": [\n",
      "    \"DebertaV2ForQuestionAnswering\"\n",
      "  ],\n",
      "  \"attention_probs_dropout_prob\": 0.1,\n",
      "  \"hidden_act\": \"gelu\",\n",
      "  \"hidden_dropout_prob\": 0.1,\n",
      "  \"hidden_size\": 768,\n",
      "  \"initializer_range\": 0.02,\n",
      "  \"intermediate_size\": 3072,\n",
      "  \"language\": \"english\",\n",
      "  \"layer_norm_eps\": 1e-07,\n",
      "  \"max_position_embeddings\": 512,\n",
      "  \"max_relative_positions\": -1,\n",
      "  \"model_type\": \"deberta-v2\",\n",
      "  \"name\": \"DebertaV2\",\n",
      "  \"norm_rel_ebd\": \"layer_norm\",\n",
      "  \"num_attention_heads\": 12,\n",
      "  \"num_hidden_layers\": 12,\n",
      "  \"pad_token_id\": 0,\n",
      "  \"pooler_dropout\": 0,\n",
      "  \"pooler_hidden_act\": \"gelu\",\n",
      "  \"pooler_hidden_size\": 768,\n",
      "  \"pos_att_type\": [\n",
      "    \"p2c\",\n",
      "    \"c2p\"\n",
      "  ],\n",
      "  \"position_biased_input\": false,\n",
      "  \"position_buckets\": 256,\n",
      "  \"relative_attention\": true,\n",
      "  \"share_att_key\": true,\n",
      "  \"summary_activation\": \"tanh\",\n",
      "  \"summary_last_dropout\": 0,\n",
      "  \"summary_type\": \"first\",\n",
      "  \"summary_use_proj\": false,\n",
      "  \"torch_dtype\": \"float32\",\n",
      "  \"transformers_version\": \"4.25.1\",\n",
      "  \"type_vocab_size\": 0,\n",
      "  \"vocab_size\": 128100\n",
      "}\n",
      "\n",
      "loading weights file pytorch_model.bin from cache at /mnt/home/fengkexi/.cache/huggingface/hub/models--deepset--deberta-v3-base-squad2/snapshots/9258f36d79eb17f9ccf2b3bcae1ce8952e8da76d/pytorch_model.bin\n",
      "All model checkpoint weights were used when initializing DebertaV2ForQuestionAnswering.\n",
      "\n",
      "All the weights of DebertaV2ForQuestionAnswering were initialized from the model checkpoint at deepset/deberta-v3-base-squad2.\n",
      "If your task is similar to the task the model of the checkpoint was trained on, you can already use DebertaV2ForQuestionAnswering for predictions without further training.\n",
      "loading file spm.model from cache at /mnt/home/fengkexi/.cache/huggingface/hub/models--deepset--deberta-v3-base-squad2/snapshots/9258f36d79eb17f9ccf2b3bcae1ce8952e8da76d/spm.model\n",
      "loading file tokenizer.json from cache at /mnt/home/fengkexi/.cache/huggingface/hub/models--deepset--deberta-v3-base-squad2/snapshots/9258f36d79eb17f9ccf2b3bcae1ce8952e8da76d/tokenizer.json\n",
      "loading file added_tokens.json from cache at /mnt/home/fengkexi/.cache/huggingface/hub/models--deepset--deberta-v3-base-squad2/snapshots/9258f36d79eb17f9ccf2b3bcae1ce8952e8da76d/added_tokens.json\n",
      "loading file special_tokens_map.json from cache at /mnt/home/fengkexi/.cache/huggingface/hub/models--deepset--deberta-v3-base-squad2/snapshots/9258f36d79eb17f9ccf2b3bcae1ce8952e8da76d/special_tokens_map.json\n",
      "loading file tokenizer_config.json from cache at /mnt/home/fengkexi/.cache/huggingface/hub/models--deepset--deberta-v3-base-squad2/snapshots/9258f36d79eb17f9ccf2b3bcae1ce8952e8da76d/tokenizer_config.json\n",
      "Disabling tokenizer parallelism, we're using DataLoader multithreading already\n"
     ]
    }
   ],
   "source": [
    "# Evaluate the original model before finetuning \n",
    "from evaluate import evaluator\n",
    "from datasets import load_dataset\n",
    "task_evaluator = evaluator(\"question-answering\")\n",
    "results = task_evaluator.compute(\n",
    "    model_or_pipeline=\"deepset/deberta-v3-base-squad2\",\n",
    "    data=datasets['validation'],\n",
    "    metric=\"squad_v2\",\n",
    "    squad_v2_format=True,\n",
    ")"
   ]
  },
  {
   "cell_type": "code",
   "execution_count": 208,
   "id": "96b9f4b0",
   "metadata": {},
   "outputs": [
    {
     "data": {
      "text/plain": [
       "{'exact': 54.083147735708984,\n",
       " 'f1': 66.39089117718106,\n",
       " 'total': 2694,\n",
       " 'HasAns_exact': 49.48571428571429,\n",
       " 'HasAns_f1': 68.43260618932885,\n",
       " 'HasAns_total': 1750,\n",
       " 'NoAns_exact': 62.605932203389834,\n",
       " 'NoAns_f1': 62.605932203389834,\n",
       " 'NoAns_total': 944,\n",
       " 'best_exact': 54.083147735708984,\n",
       " 'best_exact_thresh': 0.9998341798782349,\n",
       " 'best_f1': 66.39089117718108,\n",
       " 'best_f1_thresh': 0.9998341798782349,\n",
       " 'total_time_in_seconds': 47.13784034643322,\n",
       " 'samples_per_second': 57.151536434440125,\n",
       " 'latency_in_seconds': 0.017497342370613667}"
      ]
     },
     "execution_count": 208,
     "metadata": {},
     "output_type": "execute_result"
    }
   ],
   "source": [
    "results # metrics "
   ]
  },
  {
   "cell_type": "markdown",
   "id": "ba40563b",
   "metadata": {},
   "source": [
    "The original model, before finetuning, has an exact match rate of 54.08% and F1 score of 66.39%, respectively. The finetuned model significantly outperforms the base model."
   ]
  },
  {
   "cell_type": "code",
   "execution_count": null,
   "id": "e468b6d4",
   "metadata": {},
   "outputs": [],
   "source": []
  }
 ],
 "metadata": {
  "kernelspec": {
   "display_name": "Python 3 (ipykernel)",
   "language": "python",
   "name": "python3"
  },
  "language_info": {
   "codemirror_mode": {
    "name": "ipython",
    "version": 3
   },
   "file_extension": ".py",
   "mimetype": "text/x-python",
   "name": "python",
   "nbconvert_exporter": "python",
   "pygments_lexer": "ipython3",
   "version": "3.10.4"
  }
 },
 "nbformat": 4,
 "nbformat_minor": 5
}
